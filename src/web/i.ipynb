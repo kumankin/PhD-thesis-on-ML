{
 "cells": [
  {
   "cell_type": "code",
   "execution_count": 12,
   "metadata": {},
   "outputs": [
    {
     "ename": "IndexError",
     "evalue": "list index out of range",
     "output_type": "error",
     "traceback": [
      "\u001b[1;31m---------------------------------------------------------------------------\u001b[0m",
      "\u001b[1;31mIndexError\u001b[0m                                Traceback (most recent call last)",
      "Cell \u001b[1;32mIn [12], line 9\u001b[0m\n\u001b[0;32m      5\u001b[0m password \u001b[39m=\u001b[39m \u001b[39m'\u001b[39m\u001b[39my8P-zM7-2Rr-SNx\u001b[39m\u001b[39m'\u001b[39m\n\u001b[0;32m      7\u001b[0m \u001b[39mfrom\u001b[39;00m \u001b[39mlandsatxplore\u001b[39;00m\u001b[39m.\u001b[39;00m\u001b[39mearthexplorer\u001b[39;00m \u001b[39mimport\u001b[39;00m EarthExplorer\n\u001b[1;32m----> 9\u001b[0m ee \u001b[39m=\u001b[39m EarthExplorer(username, password)\n\u001b[0;32m     11\u001b[0m ee\u001b[39m.\u001b[39mdownload(\u001b[39m'\u001b[39m\u001b[39mLC80390222013076EDC00\u001b[39m\u001b[39m'\u001b[39m, output_dir\u001b[39m=\u001b[39m\u001b[39m'\u001b[39m\u001b[39m./data\u001b[39m\u001b[39m'\u001b[39m)\n\u001b[0;32m     13\u001b[0m ee\u001b[39m.\u001b[39mlogout()\n",
      "File \u001b[1;32mc:\\Users\\kuman\\OneDrive\\Кандидатская диссертация - КуманькинДС\\web\\ml_web\\lib\\site-packages\\landsatxplore\\earthexplorer.py:55\u001b[0m, in \u001b[0;36mEarthExplorer.__init__\u001b[1;34m(self, username, password)\u001b[0m\n\u001b[0;32m     53\u001b[0m \u001b[39m\"\"\"Access Earth Explorer portal.\"\"\"\u001b[39;00m\n\u001b[0;32m     54\u001b[0m \u001b[39mself\u001b[39m\u001b[39m.\u001b[39msession \u001b[39m=\u001b[39m requests\u001b[39m.\u001b[39mSession()\n\u001b[1;32m---> 55\u001b[0m \u001b[39mself\u001b[39;49m\u001b[39m.\u001b[39;49mlogin(username, password)\n\u001b[0;32m     56\u001b[0m \u001b[39mself\u001b[39m\u001b[39m.\u001b[39mapi \u001b[39m=\u001b[39m API(username, password)\n",
      "File \u001b[1;32mc:\\Users\\kuman\\OneDrive\\Кандидатская диссертация - КуманькинДС\\web\\ml_web\\lib\\site-packages\\landsatxplore\\earthexplorer.py:66\u001b[0m, in \u001b[0;36mEarthExplorer.login\u001b[1;34m(self, username, password)\u001b[0m\n\u001b[0;32m     64\u001b[0m \u001b[39m\"\"\"Login to Earth Explorer.\"\"\"\u001b[39;00m\n\u001b[0;32m     65\u001b[0m rsp \u001b[39m=\u001b[39m \u001b[39mself\u001b[39m\u001b[39m.\u001b[39msession\u001b[39m.\u001b[39mget(EE_LOGIN_URL)\n\u001b[1;32m---> 66\u001b[0m csrf, ncform \u001b[39m=\u001b[39m _get_tokens(rsp\u001b[39m.\u001b[39;49mtext)\n\u001b[0;32m     67\u001b[0m payload \u001b[39m=\u001b[39m {\n\u001b[0;32m     68\u001b[0m     \u001b[39m\"\u001b[39m\u001b[39musername\u001b[39m\u001b[39m\"\u001b[39m: username,\n\u001b[0;32m     69\u001b[0m     \u001b[39m\"\u001b[39m\u001b[39mpassword\u001b[39m\u001b[39m\"\u001b[39m: password,\n\u001b[0;32m     70\u001b[0m     \u001b[39m\"\u001b[39m\u001b[39mcsrf\u001b[39m\u001b[39m\"\u001b[39m: csrf,\n\u001b[0;32m     71\u001b[0m     \u001b[39m\"\u001b[39m\u001b[39m__ncforminfo\u001b[39m\u001b[39m\"\u001b[39m: ncform,\n\u001b[0;32m     72\u001b[0m }\n\u001b[0;32m     73\u001b[0m rsp \u001b[39m=\u001b[39m \u001b[39mself\u001b[39m\u001b[39m.\u001b[39msession\u001b[39m.\u001b[39mpost(EE_LOGIN_URL, data\u001b[39m=\u001b[39mpayload, allow_redirects\u001b[39m=\u001b[39m\u001b[39mTrue\u001b[39;00m)\n",
      "File \u001b[1;32mc:\\Users\\kuman\\OneDrive\\Кандидатская диссертация - КуманькинДС\\web\\ml_web\\lib\\site-packages\\landsatxplore\\earthexplorer.py:39\u001b[0m, in \u001b[0;36m_get_tokens\u001b[1;34m(body)\u001b[0m\n\u001b[0;32m     37\u001b[0m \u001b[39m\"\"\"Get `csrf_token` and `__ncforminfo`.\"\"\"\u001b[39;00m\n\u001b[0;32m     38\u001b[0m csrf \u001b[39m=\u001b[39m re\u001b[39m.\u001b[39mfindall(\u001b[39mr\u001b[39m\u001b[39m'\u001b[39m\u001b[39mname=\u001b[39m\u001b[39m\"\u001b[39m\u001b[39mcsrf\u001b[39m\u001b[39m\"\u001b[39m\u001b[39m value=\u001b[39m\u001b[39m\"\u001b[39m\u001b[39m(.+?)\u001b[39m\u001b[39m\"\u001b[39m\u001b[39m'\u001b[39m, body)[\u001b[39m0\u001b[39m]\n\u001b[1;32m---> 39\u001b[0m ncform \u001b[39m=\u001b[39m re\u001b[39m.\u001b[39;49mfindall(\u001b[39mr\u001b[39;49m\u001b[39m'\u001b[39;49m\u001b[39mname=\u001b[39;49m\u001b[39m\"\u001b[39;49m\u001b[39m__ncforminfo\u001b[39;49m\u001b[39m\"\u001b[39;49m\u001b[39m value=\u001b[39;49m\u001b[39m\"\u001b[39;49m\u001b[39m(.+?)\u001b[39;49m\u001b[39m\"\u001b[39;49m\u001b[39m'\u001b[39;49m, body)[\u001b[39m0\u001b[39;49m]\n\u001b[0;32m     41\u001b[0m \u001b[39mif\u001b[39;00m \u001b[39mnot\u001b[39;00m csrf:\n\u001b[0;32m     42\u001b[0m     \u001b[39mraise\u001b[39;00m EarthExplorerError(\u001b[39m\"\u001b[39m\u001b[39mEE: login failed (csrf token not found).\u001b[39m\u001b[39m\"\u001b[39m)\n",
      "\u001b[1;31mIndexError\u001b[0m: list index out of range"
     ]
    }
   ],
   "source": [
    "import json\n",
    "from landsatxplore.api import API\n",
    "\n",
    "# username = 'kumankin'\n",
    "# password = 'y8P-zM7-2Rr-SNx'\n",
    "\n",
    "username = 'sabafatima1101'\n",
    "password = '#Geoinformaticionno1'\n",
    "\n",
    "from landsatxplore.earthexplorer import EarthExplorer\n",
    "\n",
    "ee = EarthExplorer(username, password)\n",
    "\n",
    "ee.download('LC80390222013076EDC00', output_dir='./data')\n",
    "\n",
    "ee.logout()"
   ]
  },
  {
   "cell_type": "code",
   "execution_count": 11,
   "metadata": {},
   "outputs": [
    {
     "ename": "IndexError",
     "evalue": "list index out of range",
     "output_type": "error",
     "traceback": [
      "\u001b[1;31m---------------------------------------------------------------------------\u001b[0m",
      "\u001b[1;31mIndexError\u001b[0m                                Traceback (most recent call last)",
      "Cell \u001b[1;32mIn [11], line 3\u001b[0m\n\u001b[0;32m      1\u001b[0m \u001b[39mfrom\u001b[39;00m \u001b[39mlandsatxplore\u001b[39;00m\u001b[39m.\u001b[39;00m\u001b[39mearthexplorer\u001b[39;00m \u001b[39mimport\u001b[39;00m EarthExplorer\n\u001b[1;32m----> 3\u001b[0m ee \u001b[39m=\u001b[39m EarthExplorer(username, password)\n\u001b[0;32m      5\u001b[0m ee\u001b[39m.\u001b[39mdownload(\u001b[39m'\u001b[39m\u001b[39mLC80390222013076EDC00\u001b[39m\u001b[39m'\u001b[39m, output_dir\u001b[39m=\u001b[39m\u001b[39m'\u001b[39m\u001b[39m./data\u001b[39m\u001b[39m'\u001b[39m)\n\u001b[0;32m      7\u001b[0m ee\u001b[39m.\u001b[39mlogout()\n",
      "File \u001b[1;32mc:\\Users\\kuman\\OneDrive\\Кандидатская диссертация - КуманькинДС\\web\\ml_web\\lib\\site-packages\\landsatxplore\\earthexplorer.py:55\u001b[0m, in \u001b[0;36mEarthExplorer.__init__\u001b[1;34m(self, username, password)\u001b[0m\n\u001b[0;32m     53\u001b[0m \u001b[39m\"\"\"Access Earth Explorer portal.\"\"\"\u001b[39;00m\n\u001b[0;32m     54\u001b[0m \u001b[39mself\u001b[39m\u001b[39m.\u001b[39msession \u001b[39m=\u001b[39m requests\u001b[39m.\u001b[39mSession()\n\u001b[1;32m---> 55\u001b[0m \u001b[39mself\u001b[39;49m\u001b[39m.\u001b[39;49mlogin(username, password)\n\u001b[0;32m     56\u001b[0m \u001b[39mself\u001b[39m\u001b[39m.\u001b[39mapi \u001b[39m=\u001b[39m API(username, password)\n",
      "File \u001b[1;32mc:\\Users\\kuman\\OneDrive\\Кандидатская диссертация - КуманькинДС\\web\\ml_web\\lib\\site-packages\\landsatxplore\\earthexplorer.py:66\u001b[0m, in \u001b[0;36mEarthExplorer.login\u001b[1;34m(self, username, password)\u001b[0m\n\u001b[0;32m     64\u001b[0m \u001b[39m\"\"\"Login to Earth Explorer.\"\"\"\u001b[39;00m\n\u001b[0;32m     65\u001b[0m rsp \u001b[39m=\u001b[39m \u001b[39mself\u001b[39m\u001b[39m.\u001b[39msession\u001b[39m.\u001b[39mget(EE_LOGIN_URL)\n\u001b[1;32m---> 66\u001b[0m csrf, ncform \u001b[39m=\u001b[39m _get_tokens(rsp\u001b[39m.\u001b[39;49mtext)\n\u001b[0;32m     67\u001b[0m payload \u001b[39m=\u001b[39m {\n\u001b[0;32m     68\u001b[0m     \u001b[39m\"\u001b[39m\u001b[39musername\u001b[39m\u001b[39m\"\u001b[39m: username,\n\u001b[0;32m     69\u001b[0m     \u001b[39m\"\u001b[39m\u001b[39mpassword\u001b[39m\u001b[39m\"\u001b[39m: password,\n\u001b[0;32m     70\u001b[0m     \u001b[39m\"\u001b[39m\u001b[39mcsrf\u001b[39m\u001b[39m\"\u001b[39m: csrf,\n\u001b[0;32m     71\u001b[0m     \u001b[39m\"\u001b[39m\u001b[39m__ncforminfo\u001b[39m\u001b[39m\"\u001b[39m: ncform,\n\u001b[0;32m     72\u001b[0m }\n\u001b[0;32m     73\u001b[0m rsp \u001b[39m=\u001b[39m \u001b[39mself\u001b[39m\u001b[39m.\u001b[39msession\u001b[39m.\u001b[39mpost(EE_LOGIN_URL, data\u001b[39m=\u001b[39mpayload, allow_redirects\u001b[39m=\u001b[39m\u001b[39mTrue\u001b[39;00m)\n",
      "File \u001b[1;32mc:\\Users\\kuman\\OneDrive\\Кандидатская диссертация - КуманькинДС\\web\\ml_web\\lib\\site-packages\\landsatxplore\\earthexplorer.py:39\u001b[0m, in \u001b[0;36m_get_tokens\u001b[1;34m(body)\u001b[0m\n\u001b[0;32m     37\u001b[0m \u001b[39m\"\"\"Get `csrf_token` and `__ncforminfo`.\"\"\"\u001b[39;00m\n\u001b[0;32m     38\u001b[0m csrf \u001b[39m=\u001b[39m re\u001b[39m.\u001b[39mfindall(\u001b[39mr\u001b[39m\u001b[39m'\u001b[39m\u001b[39mname=\u001b[39m\u001b[39m\"\u001b[39m\u001b[39mcsrf\u001b[39m\u001b[39m\"\u001b[39m\u001b[39m value=\u001b[39m\u001b[39m\"\u001b[39m\u001b[39m(.+?)\u001b[39m\u001b[39m\"\u001b[39m\u001b[39m'\u001b[39m, body)[\u001b[39m0\u001b[39m]\n\u001b[1;32m---> 39\u001b[0m ncform \u001b[39m=\u001b[39m re\u001b[39m.\u001b[39;49mfindall(\u001b[39mr\u001b[39;49m\u001b[39m'\u001b[39;49m\u001b[39mname=\u001b[39;49m\u001b[39m\"\u001b[39;49m\u001b[39m__ncforminfo\u001b[39;49m\u001b[39m\"\u001b[39;49m\u001b[39m value=\u001b[39;49m\u001b[39m\"\u001b[39;49m\u001b[39m(.+?)\u001b[39;49m\u001b[39m\"\u001b[39;49m\u001b[39m'\u001b[39;49m, body)[\u001b[39m0\u001b[39;49m]\n\u001b[0;32m     41\u001b[0m \u001b[39mif\u001b[39;00m \u001b[39mnot\u001b[39;00m csrf:\n\u001b[0;32m     42\u001b[0m     \u001b[39mraise\u001b[39;00m EarthExplorerError(\u001b[39m\"\u001b[39m\u001b[39mEE: login failed (csrf token not found).\u001b[39m\u001b[39m\"\u001b[39m)\n",
      "\u001b[1;31mIndexError\u001b[0m: list index out of range"
     ]
    }
   ],
   "source": [
    "from landsatxplore.earthexplorer import EarthExplorer\n",
    "\n",
    "ee = EarthExplorer(username, password)\n",
    "\n",
    "ee.download('LC80390222013076EDC00', output_dir='./data')\n",
    "\n",
    "ee.logout()"
   ]
  },
  {
   "cell_type": "code",
   "execution_count": null,
   "metadata": {},
   "outputs": [],
   "source": []
  }
 ],
 "metadata": {
  "kernelspec": {
   "display_name": "Python 3.9.13 ('ml_web': venv)",
   "language": "python",
   "name": "python3"
  },
  "language_info": {
   "codemirror_mode": {
    "name": "ipython",
    "version": 3
   },
   "file_extension": ".py",
   "mimetype": "text/x-python",
   "name": "python",
   "nbconvert_exporter": "python",
   "pygments_lexer": "ipython3",
   "version": "3.9.13"
  },
  "orig_nbformat": 4,
  "vscode": {
   "interpreter": {
    "hash": "e2d9f2dac04a89b56a024ac45388f5900018957951cd486d8093178e103c8a39"
   }
  }
 },
 "nbformat": 4,
 "nbformat_minor": 2
}
